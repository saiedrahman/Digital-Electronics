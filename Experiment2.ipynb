{
  "nbformat": 4,
  "nbformat_minor": 0,
  "metadata": {
    "colab": {
      "name": "Experiment2.ipynb",
      "provenance": [],
      "authorship_tag": "ABX9TyNGicvtwsnf4rExIz4khWj9",
      "include_colab_link": true
    },
    "kernelspec": {
      "name": "python3",
      "display_name": "Python 3"
    },
    "language_info": {
      "name": "python"
    }
  },
  "cells": [
    {
      "cell_type": "markdown",
      "metadata": {
        "id": "view-in-github",
        "colab_type": "text"
      },
      "source": [
        "<a href=\"https://colab.research.google.com/github/smmasruk/DigitalElectronics/blob/master/Experiment2.ipynb\" target=\"_parent\"><img src=\"https://colab.research.google.com/assets/colab-badge.svg\" alt=\"Open In Colab\"/></a>"
      ]
    },
    {
      "cell_type": "code",
      "metadata": {
        "id": "BVembXN7KZAy"
      },
      "source": [
        "! sudo apt-get install texlive-latex-recommended "
      ],
      "execution_count": null,
      "outputs": []
    },
    {
      "cell_type": "markdown",
      "metadata": {
        "id": "YjgVE3wuKoEY"
      },
      "source": [
        "# PHY 305 (Digital Electronics)\n",
        "\n",
        "> ## Experiment 2: Logic Gates.\n",
        "S.M.Masruk Uddin \\\\\n",
        "**ID:1820855**\n"
      ]
    },
    {
      "cell_type": "code",
      "metadata": {
        "id": "qFWVYcasSJGJ"
      },
      "source": [
        "#This function takes the gate as a function and prints the truth table. \n",
        "def printTruthTable(f):\n",
        "    ip=[0,1]\n",
        "    for i in ip:\n",
        "        for j in ip:\n",
        "            for k in ip:\n",
        "                f(i,j,k)\n"
      ],
      "execution_count": 3,
      "outputs": []
    },
    {
      "cell_type": "markdown",
      "metadata": {
        "id": "0ESJwu6RGC76"
      },
      "source": [
        "#AND Gate#\n",
        "\n",
        "\n",
        "> AND gate takes two inputs and does the follwing logical operation\n",
        "$$C=A.B$$\n",
        "\n"
      ]
    },
    {
      "cell_type": "code",
      "metadata": {
        "colab": {
          "base_uri": "https://localhost:8080/"
        },
        "id": "d_vvf-kFK1ZQ",
        "outputId": "5d040e18-0b17-49bd-ab6e-b641401e0ad8"
      },
      "source": [
        "def AND3(x1,x2,x3):\n",
        "    x = x1 and x2 and x3\n",
        "    print( x1, x2, x3,\":\", x)\n",
        "printTruthTable(AND3)"
      ],
      "execution_count": 4,
      "outputs": [
        {
          "output_type": "stream",
          "name": "stdout",
          "text": [
            "0 0 0 : 0\n",
            "0 0 1 : 0\n",
            "0 1 0 : 0\n",
            "0 1 1 : 0\n",
            "1 0 0 : 0\n",
            "1 0 1 : 0\n",
            "1 1 0 : 0\n",
            "1 1 1 : 1\n"
          ]
        }
      ]
    },
    {
      "cell_type": "markdown",
      "metadata": {
        "id": "46AMRvWSGMgR"
      },
      "source": [
        "#OR Gate#\n",
        "\n",
        "\n",
        ">  OR gate takes two inputs and does the follwing logical operation\n",
        "$$C=A+B$$\n",
        "\n",
        "\n"
      ]
    },
    {
      "cell_type": "code",
      "metadata": {
        "colab": {
          "base_uri": "https://localhost:8080/"
        },
        "id": "97P8W91nOYCB",
        "outputId": "19000b6d-b195-4ab3-e9e0-baa947928626"
      },
      "source": [
        "def OR3(x1,x2,x3):\n",
        "    x = x1 or x2 or x3\n",
        "    print( x1, x2, x3,\":\", x)\n",
        "\n",
        "printTruthTable(OR3)\n"
      ],
      "execution_count": 6,
      "outputs": [
        {
          "output_type": "stream",
          "name": "stdout",
          "text": [
            "0 0 0 : 0\n",
            "0 0 1 : 1\n",
            "0 1 0 : 1\n",
            "0 1 1 : 1\n",
            "1 0 0 : 1\n",
            "1 0 1 : 1\n",
            "1 1 0 : 1\n",
            "1 1 1 : 1\n"
          ]
        }
      ]
    },
    {
      "cell_type": "markdown",
      "metadata": {
        "id": "iTIbiPX4GQVh"
      },
      "source": [
        "#XOR Gate#\n",
        "\n",
        "\n",
        "> XOR gate takes two inputs and does the follwing logical operation\n",
        "$$C=A \\oplus B= A.\\bar{B}+ \\bar{A}.B $$ \n",
        "\n"
      ]
    },
    {
      "cell_type": "code",
      "metadata": {
        "colab": {
          "base_uri": "https://localhost:8080/"
        },
        "id": "oCzqTWyEP5lq",
        "outputId": "defcc1e0-0e5a-4dc5-898f-922a54c870c7"
      },
      "source": [
        "def XOR3(x1,x2,x3):\n",
        "    x = x1 ^ x2 ^ x3\n",
        "    print( x1, x2, x3,\":\", x)\n",
        "\n",
        "printTruthTable(XOR3)\n"
      ],
      "execution_count": 7,
      "outputs": [
        {
          "output_type": "stream",
          "name": "stdout",
          "text": [
            "0 0 0 : 0\n",
            "0 0 1 : 1\n",
            "0 1 0 : 1\n",
            "0 1 1 : 0\n",
            "1 0 0 : 1\n",
            "1 0 1 : 0\n",
            "1 1 0 : 0\n",
            "1 1 1 : 1\n"
          ]
        }
      ]
    },
    {
      "cell_type": "markdown",
      "metadata": {
        "id": "EOTPqVWvGUTx"
      },
      "source": [
        "#XNOR Gate#\n",
        "\\usepackage{ wasysym }\n",
        "\n",
        ">XOR gate takes two inputs and does the follwing logical operation\n",
        "$$C=A \\text{  XNOR  }  B= A.B+ \\bar{A}.\\bar{B}$$  \n",
        "\n",
        "\n"
      ]
    },
    {
      "cell_type": "code",
      "metadata": {
        "colab": {
          "base_uri": "https://localhost:8080/"
        },
        "id": "kIBTaVxtFbKh",
        "outputId": "5196b1c1-7be8-484a-df42-2a9ebe596504"
      },
      "source": [
        "def XNOR3(x1,x2,x3):\n",
        "    x = not(x1 ^ x2 ^ x3)\n",
        "    print( x1, x2, x3,\":\", int(x))\n",
        "\n",
        "printTruthTable(XNOR3)\n"
      ],
      "execution_count": 9,
      "outputs": [
        {
          "output_type": "stream",
          "name": "stdout",
          "text": [
            "0 0 0 : 1\n",
            "0 0 1 : 0\n",
            "0 1 0 : 0\n",
            "0 1 1 : 1\n",
            "1 0 0 : 0\n",
            "1 0 1 : 1\n",
            "1 1 0 : 1\n",
            "1 1 1 : 0\n"
          ]
        }
      ]
    }
  ]
}