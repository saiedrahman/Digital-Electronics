{
  "nbformat": 4,
  "nbformat_minor": 0,
  "metadata": {
    "colab": {
      "name": "Number System and Conversion.ipynb",
      "provenance": [],
      "collapsed_sections": [],
      "include_colab_link": true
    },
    "kernelspec": {
      "name": "python3",
      "display_name": "Python 3"
    },
    "language_info": {
      "name": "python"
    }
  },
  "cells": [
    {
      "cell_type": "markdown",
      "metadata": {
        "id": "view-in-github",
        "colab_type": "text"
      },
      "source": [
        "<a href=\"https://colab.research.google.com/github/smmasruk/DigitalElectronics/blob/master/Number_System_and_Conversion.ipynb\" target=\"_parent\"><img src=\"https://colab.research.google.com/assets/colab-badge.svg\" alt=\"Open In Colab\"/></a>"
      ]
    },
    {
      "cell_type": "markdown",
      "metadata": {
        "id": "YB1nfA72987v"
      },
      "source": [
        "## **Binary To decimal conversion**"
      ]
    },
    {
      "cell_type": "code",
      "metadata": {
        "id": "mXIrQFx1J_hi"
      },
      "source": [
        "def b2d(num):\n",
        "#inport a number and  make it a string \n",
        "\t\n",
        "# turn  this number in to string.\n",
        "\ty={'1','0','.'} \n",
        "\tx=str(num)\n",
        "\tla=len(x)\n",
        " #checking if inputs are in list y or not \n",
        "\tfor i in range(la):\n",
        "\t\tif x[i] not in y:\n",
        "\t\t\trn='invalid input'\n",
        "\t\t\treturn print(rn)\n",
        "\t\t\tbreak\n",
        "\t\t\n",
        "\n",
        "#find the possition of  binary point give it a name d \n",
        "\td=x.find('.')\n",
        "\tif d==-1:\n",
        "\t\td=len(x)\n",
        "\tw=0\n",
        "#if the number is not whole number \n",
        "\tfor i in range(d):\n",
        "\t\tp= d-1-i\n",
        "\t\tk=int(x[i])* 2**p\n",
        "\t\tw=k+w\n",
        "# now trasformation of the later part (lets call it not whole number). which starts from point d+1\n",
        "\tb=len(x[d+1:])\n",
        "\ti=1\n",
        "\tr=0\n",
        "\tfor i in range (1,b+1):\n",
        "\t\t\tk=int(x[d+i])*2**(-i)\n",
        "\t\t\tr=k+r\t\n",
        "\t#return r\n",
        "\tdcm=w+r\n",
        "\t#Putting this not whole part after decimal point \n",
        "\tprint('in decimal the number is: ' +str(dcm))\n",
        "\n",
        "\n"
      ],
      "execution_count": null,
      "outputs": []
    },
    {
      "cell_type": "markdown",
      "metadata": {
        "id": "k1pICyZPKpSB"
      },
      "source": [
        "#**Decimal To binary conversion**"
      ]
    },
    {
      "cell_type": "code",
      "metadata": {
        "id": "dznFVKCcLVYf"
      },
      "source": [
        "#inport a number and  make it a string \n",
        "import math\n",
        "\n",
        "\n",
        "#find the possition of  binary point give it a name d\n",
        "def d2b(num):\n",
        "\tx=str(num)\n",
        "\td=x.find('.')\n",
        "\n",
        "\n",
        "\tif d == -1:\n",
        "\t\tx=x+'.0'\n",
        "\td=x.find('.')\n",
        "\tnum=int(x[:d])\n",
        "\tw = ''\n",
        "\twhile(num):\n",
        "\t\tk = num % 2\n",
        "\t\tw = str(k) + w\n",
        "\t\tnum = num // 2\n",
        "\tm=str(w)\n",
        "\n",
        "\ta=int(x[d+1:])\n",
        "\n",
        "\tb=len(x[d+1:])\n",
        "\tfrac=a/(10**b)\n",
        "\n",
        "\n",
        "\tf=''\n",
        "\twhile(frac!=0):\n",
        "\t\tp=frac*2\n",
        "\t\t\n",
        "\t\tk=p//1\n",
        "\n",
        "\t\tf=str(math.floor(k))+f\n",
        "\t\tfrac=p%1\n",
        "\t\t\n",
        "\tn=str(f)\n",
        "\tl=n[::-1]\n",
        "\td='.'\n",
        "\n",
        "\tbinary=m+d+l\n",
        "\treturn  (binary)\n",
        "\n"
      ],
      "execution_count": null,
      "outputs": []
    },
    {
      "cell_type": "markdown",
      "metadata": {
        "id": "ZShO7IXzPhX1"
      },
      "source": [
        "#Hexadecimal to Decimal \n"
      ]
    },
    {
      "cell_type": "code",
      "metadata": {
        "id": "x0-ZGhG9PXs-"
      },
      "source": [
        "#Hexadecimal to Decimal \n",
        "conversion_table = {'0': 0, '1': 1, '2': 2, '3': 3, '4': 4, '5': 5, '6': 6, '7': 7, '8': 8, '9': 9, 'A': 10 , 'B': 11, 'C': 12, 'D': 13, 'E': 14, 'F': 15}\n",
        "def h2d(hdm):\n",
        "  decimal = 0\n",
        "  decimal2=0\n",
        "  \n",
        "  x=str(hdm)\n",
        "  d=x.find('.')\n",
        "  if d!=-1:\n",
        "    hexadecimal=hdm[:d]\n",
        "    hexadecimalfrc=hdm[d+1:] \n",
        "  else:\n",
        "    hexadecimal=hdm\n",
        "  # computing maximum order\n",
        "  power = len(hexadecimal) -1\n",
        "\n",
        "  for digit in hexadecimal:\n",
        "    decimal += conversion_table[digit]*16**power\n",
        "    power -= 1\n",
        "  pow=-1\n",
        "  \n",
        "  for digit in hexadecimalfrc:\n",
        "    decimal2 += conversion_table[digit]*16**pow\n",
        "    pow-= -1\n",
        "  \n",
        "  decmalcocv=decimal+decimal2\n",
        "  return decmalcocv\n"
      ],
      "execution_count": null,
      "outputs": []
    },
    {
      "cell_type": "markdown",
      "metadata": {
        "id": "EJZw8i90hNjG"
      },
      "source": [
        "#Hexa decimal to Binary:"
      ]
    },
    {
      "cell_type": "code",
      "metadata": {
        "colab": {
          "base_uri": "https://localhost:8080/"
        },
        "id": "1EnMlX4bmDyw",
        "outputId": "194f2f4f-b798-4952-dab6-4b258e5adf9d"
      },
      "source": [
        "#Hexadecimal to Decimal \n",
        "conversion_table2 = {'0': '0000', '1': '0001', '2': '0010', '3': '0011', '4': '0100', '5': '0101', '6': '0110', '7': '0111', '8': '1000', '9': '1001', 'A': '1010' , 'B': '1011', 'C': '1100', 'D': '1101', 'E': '1110', 'F': '1111'}\n",
        "def h2b(hdm):\n",
        "  nf=''\n",
        "  f=''\n",
        "  \n",
        "  x=str(hdm)\n",
        "  d=x.find('.')\n",
        "  if d!=-1:\n",
        "    hds=hdm[:d]\n",
        "    hdfs=hdm[d+1:] \n",
        "  else:\n",
        "    hds=hdm\n",
        "    hdfs=''\n",
        "\n",
        "  for digit in hds:\n",
        "    p=digit\n",
        "    stc=str(p)\n",
        "    ct=conversion_table2[stc]\n",
        "    nf=nf+ct \n",
        "  \n",
        "  for element in hdfs:\n",
        "    q=element\n",
        "    stc2=str(q)\n",
        "    ct2=conversion_table2[stc2]\n",
        "    f=f+ct2\n",
        "  \n",
        "  conv=nf+'.'+f\n",
        "  print(conv)\n",
        "\n",
        "h2b(input())   "
      ],
      "execution_count": null,
      "outputs": [
        {
          "output_type": "stream",
          "name": "stdout",
          "text": [
            "AE3.122AD\n",
            "101011100011.00010010001010101101\n"
          ]
        }
      ]
    },
    {
      "cell_type": "markdown",
      "metadata": {
        "id": "Ne0A2raM75vp"
      },
      "source": [
        "#Binary to Hexadecimal. "
      ]
    },
    {
      "cell_type": "code",
      "metadata": {
        "colab": {
          "base_uri": "https://localhost:8080/"
        },
        "id": "a2kwQKrC7-0j",
        "outputId": "cdd758e1-755e-4166-ea97-81f2d282be1d"
      },
      "source": [
        "conversion_table2 = {'0': '0000', '1': '0001', '2': '0010', '3': '0011', '4': '0100', '5': '0101', '6': '0110', '7': '0111', '8': '1000', '9': '1001', 'A': '1010' , 'B': '1011', 'C': '1100', 'D': '1101', 'E': '1110', 'F': '1111'}\n",
        "rev_convTab2={}\n",
        "for key,value in conversion_table2.items():\n",
        "  rev_convTab2[value]=key\n",
        "\n",
        "\n",
        "def B2hex(brn):\n",
        "  nf=''\n",
        "  f=''\n",
        "  store1=[]\n",
        "  store2=[]\n",
        "  x=str(brn)\n",
        "  d=x.find('.')\n",
        "  if d!=-1:\n",
        "    brs=x[:d]\n",
        "    brfs=x[d+1:] \n",
        "  else:\n",
        "    brs=x\n",
        "    brfs=''\n",
        "  brs = '000' + brs\n",
        "  brfs=brfs+'000'\n",
        "  r=len(brs)\n",
        "  for i in range(int(len(brs)/4+1)):\n",
        "    if r < 0:\n",
        "      break\n",
        "    store1.append(brs[r-4:r])\n",
        "    r=r-4\n",
        "  nr=0\n",
        "  for i in range(int(len(brfs)/4)):\n",
        "    if nr > len(brfs):\n",
        "      break\n",
        "    store2.append(brfs[nr:nr+4])\n",
        "    nr=nr+4\n",
        "  print(store2)\n",
        "  nfp=''\n",
        "  fp=''\n",
        "  for i in store1:\n",
        "    x = rev_convTab2.get(i)\n",
        "    if x:\n",
        "      nfp=x+nfp\n",
        "  for i in store2:\n",
        "    x = rev_convTab2.get(i)\n",
        "    if x:\n",
        "      fp+=x\n",
        "  print(nfp+'.'+fp)\n",
        "\n",
        "\n",
        "\n",
        "B2hex(input())"
      ],
      "execution_count": 114,
      "outputs": [
        {
          "output_type": "stream",
          "name": "stdout",
          "text": [
            "1341341\n",
            "[]\n",
            ".\n"
          ]
        }
      ]
    },
    {
      "cell_type": "code",
      "metadata": {
        "id": "xe-2Mnn9LflA"
      },
      "source": [
        ""
      ],
      "execution_count": null,
      "outputs": []
    },
    {
      "cell_type": "markdown",
      "metadata": {
        "id": "3jGQ7CufJ5FG"
      },
      "source": [
        "#Decmal to hexadecimal"
      ]
    },
    {
      "cell_type": "code",
      "metadata": {
        "colab": {
          "base_uri": "https://localhost:8080/"
        },
        "id": "PxHBgXHrKCYC",
        "outputId": "2799d397-a0fa-4cd8-ec33-93b3e2b9834e"
      },
      "source": [
        "def d2hex(x):\n",
        "  r=d2b(x)\n",
        "  return B2hex(r)\n",
        "\n",
        "B2hex(input())"
      ],
      "execution_count": 115,
      "outputs": [
        {
          "output_type": "stream",
          "name": "stdout",
          "text": [
            "10.10\n",
            "['1000']\n",
            "2.8\n"
          ]
        }
      ]
    }
  ]
}